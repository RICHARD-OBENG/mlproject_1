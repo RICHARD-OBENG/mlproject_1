{
 "cells": [
  {
   "cell_type": "code",
   "execution_count": 2,
   "id": "2d406420",
   "metadata": {},
   "outputs": [],
   "source": [
    "# Loading libraries\n",
    "\n",
    "import numpy as np\n",
    "import pandas as pd\n",
    "import matplotlib.pyplot as plt\n",
    "import seaborn as sns\n",
    "\n",
    "# Modeling\n",
    "from sklearn.metrics import mean_squared_error, r2_score\n",
    "from sklearn.neighbors import KNeighborsRegressor\n",
    "from sklearn.tree import DecisionTreeRegressor\n",
    "from sklearn.ensemble import RandomForestRegressor, AdaBoostRegressor\n",
    "from sklearn.svm import SVR\n",
    "from sklearn.linear_model import LinearRegression, Ridge, Lasso\n",
    "from sklearn.metrics import r2_score, mean_absolute_error, mean_squared_error\n",
    "from sklearn.model_selection import RandomizedSearchCV\n",
    "import catboost\n",
    "from catboost import CatBoostRegressor\n",
    "from xgboost import XGBRegressor\n",
    "import warnings"
   ]
  },
  {
   "cell_type": "code",
   "execution_count": 3,
   "id": "80105c50",
   "metadata": {},
   "outputs": [],
   "source": [
    "data = pd.read_csv('data/stud.csv ')"
   ]
  },
  {
   "cell_type": "code",
   "execution_count": 4,
   "id": "a5d744ca",
   "metadata": {},
   "outputs": [
    {
     "data": {
      "application/vnd.microsoft.datawrangler.viewer.v0+json": {
       "columns": [
        {
         "name": "index",
         "rawType": "int64",
         "type": "integer"
        },
        {
         "name": "gender",
         "rawType": "object",
         "type": "string"
        },
        {
         "name": "race_ethnicity",
         "rawType": "object",
         "type": "string"
        },
        {
         "name": "parental_level_of_education",
         "rawType": "object",
         "type": "string"
        },
        {
         "name": "lunch",
         "rawType": "object",
         "type": "string"
        },
        {
         "name": "test_preparation_course",
         "rawType": "object",
         "type": "string"
        },
        {
         "name": "math_score",
         "rawType": "int64",
         "type": "integer"
        },
        {
         "name": "reading_score",
         "rawType": "int64",
         "type": "integer"
        },
        {
         "name": "writing_score",
         "rawType": "int64",
         "type": "integer"
        }
       ],
       "ref": "7476eea3-cd5c-43ef-b676-73123dc22b28",
       "rows": [
        [
         "0",
         "female",
         "group B",
         "bachelor's degree",
         "standard",
         "none",
         "72",
         "72",
         "74"
        ],
        [
         "1",
         "female",
         "group C",
         "some college",
         "standard",
         "completed",
         "69",
         "90",
         "88"
        ],
        [
         "2",
         "female",
         "group B",
         "master's degree",
         "standard",
         "none",
         "90",
         "95",
         "93"
        ],
        [
         "3",
         "male",
         "group A",
         "associate's degree",
         "free/reduced",
         "none",
         "47",
         "57",
         "44"
        ],
        [
         "4",
         "male",
         "group C",
         "some college",
         "standard",
         "none",
         "76",
         "78",
         "75"
        ]
       ],
       "shape": {
        "columns": 8,
        "rows": 5
       }
      },
      "text/html": [
       "<div>\n",
       "<style scoped>\n",
       "    .dataframe tbody tr th:only-of-type {\n",
       "        vertical-align: middle;\n",
       "    }\n",
       "\n",
       "    .dataframe tbody tr th {\n",
       "        vertical-align: top;\n",
       "    }\n",
       "\n",
       "    .dataframe thead th {\n",
       "        text-align: right;\n",
       "    }\n",
       "</style>\n",
       "<table border=\"1\" class=\"dataframe\">\n",
       "  <thead>\n",
       "    <tr style=\"text-align: right;\">\n",
       "      <th></th>\n",
       "      <th>gender</th>\n",
       "      <th>race_ethnicity</th>\n",
       "      <th>parental_level_of_education</th>\n",
       "      <th>lunch</th>\n",
       "      <th>test_preparation_course</th>\n",
       "      <th>math_score</th>\n",
       "      <th>reading_score</th>\n",
       "      <th>writing_score</th>\n",
       "    </tr>\n",
       "  </thead>\n",
       "  <tbody>\n",
       "    <tr>\n",
       "      <th>0</th>\n",
       "      <td>female</td>\n",
       "      <td>group B</td>\n",
       "      <td>bachelor's degree</td>\n",
       "      <td>standard</td>\n",
       "      <td>none</td>\n",
       "      <td>72</td>\n",
       "      <td>72</td>\n",
       "      <td>74</td>\n",
       "    </tr>\n",
       "    <tr>\n",
       "      <th>1</th>\n",
       "      <td>female</td>\n",
       "      <td>group C</td>\n",
       "      <td>some college</td>\n",
       "      <td>standard</td>\n",
       "      <td>completed</td>\n",
       "      <td>69</td>\n",
       "      <td>90</td>\n",
       "      <td>88</td>\n",
       "    </tr>\n",
       "    <tr>\n",
       "      <th>2</th>\n",
       "      <td>female</td>\n",
       "      <td>group B</td>\n",
       "      <td>master's degree</td>\n",
       "      <td>standard</td>\n",
       "      <td>none</td>\n",
       "      <td>90</td>\n",
       "      <td>95</td>\n",
       "      <td>93</td>\n",
       "    </tr>\n",
       "    <tr>\n",
       "      <th>3</th>\n",
       "      <td>male</td>\n",
       "      <td>group A</td>\n",
       "      <td>associate's degree</td>\n",
       "      <td>free/reduced</td>\n",
       "      <td>none</td>\n",
       "      <td>47</td>\n",
       "      <td>57</td>\n",
       "      <td>44</td>\n",
       "    </tr>\n",
       "    <tr>\n",
       "      <th>4</th>\n",
       "      <td>male</td>\n",
       "      <td>group C</td>\n",
       "      <td>some college</td>\n",
       "      <td>standard</td>\n",
       "      <td>none</td>\n",
       "      <td>76</td>\n",
       "      <td>78</td>\n",
       "      <td>75</td>\n",
       "    </tr>\n",
       "  </tbody>\n",
       "</table>\n",
       "</div>"
      ],
      "text/plain": [
       "   gender race_ethnicity parental_level_of_education         lunch  \\\n",
       "0  female        group B           bachelor's degree      standard   \n",
       "1  female        group C                some college      standard   \n",
       "2  female        group B             master's degree      standard   \n",
       "3    male        group A          associate's degree  free/reduced   \n",
       "4    male        group C                some college      standard   \n",
       "\n",
       "  test_preparation_course  math_score  reading_score  writing_score  \n",
       "0                    none          72             72             74  \n",
       "1               completed          69             90             88  \n",
       "2                    none          90             95             93  \n",
       "3                    none          47             57             44  \n",
       "4                    none          76             78             75  "
      ]
     },
     "execution_count": 4,
     "metadata": {},
     "output_type": "execute_result"
    }
   ],
   "source": [
    "data.head()"
   ]
  },
  {
   "cell_type": "code",
   "execution_count": 6,
   "id": "d3082af8",
   "metadata": {},
   "outputs": [],
   "source": [
    "X = data.drop(columns=['math_score'], axis=1)"
   ]
  },
  {
   "cell_type": "code",
   "execution_count": 7,
   "id": "1c8dacce",
   "metadata": {},
   "outputs": [
    {
     "data": {
      "application/vnd.microsoft.datawrangler.viewer.v0+json": {
       "columns": [
        {
         "name": "index",
         "rawType": "int64",
         "type": "integer"
        },
        {
         "name": "gender",
         "rawType": "object",
         "type": "string"
        },
        {
         "name": "race_ethnicity",
         "rawType": "object",
         "type": "string"
        },
        {
         "name": "parental_level_of_education",
         "rawType": "object",
         "type": "string"
        },
        {
         "name": "lunch",
         "rawType": "object",
         "type": "string"
        },
        {
         "name": "test_preparation_course",
         "rawType": "object",
         "type": "string"
        },
        {
         "name": "reading_score",
         "rawType": "int64",
         "type": "integer"
        },
        {
         "name": "writing_score",
         "rawType": "int64",
         "type": "integer"
        }
       ],
       "ref": "9784ba0c-6663-47a9-a00c-7ef76cf39f58",
       "rows": [
        [
         "0",
         "female",
         "group B",
         "bachelor's degree",
         "standard",
         "none",
         "72",
         "74"
        ],
        [
         "1",
         "female",
         "group C",
         "some college",
         "standard",
         "completed",
         "90",
         "88"
        ],
        [
         "2",
         "female",
         "group B",
         "master's degree",
         "standard",
         "none",
         "95",
         "93"
        ],
        [
         "3",
         "male",
         "group A",
         "associate's degree",
         "free/reduced",
         "none",
         "57",
         "44"
        ],
        [
         "4",
         "male",
         "group C",
         "some college",
         "standard",
         "none",
         "78",
         "75"
        ]
       ],
       "shape": {
        "columns": 7,
        "rows": 5
       }
      },
      "text/html": [
       "<div>\n",
       "<style scoped>\n",
       "    .dataframe tbody tr th:only-of-type {\n",
       "        vertical-align: middle;\n",
       "    }\n",
       "\n",
       "    .dataframe tbody tr th {\n",
       "        vertical-align: top;\n",
       "    }\n",
       "\n",
       "    .dataframe thead th {\n",
       "        text-align: right;\n",
       "    }\n",
       "</style>\n",
       "<table border=\"1\" class=\"dataframe\">\n",
       "  <thead>\n",
       "    <tr style=\"text-align: right;\">\n",
       "      <th></th>\n",
       "      <th>gender</th>\n",
       "      <th>race_ethnicity</th>\n",
       "      <th>parental_level_of_education</th>\n",
       "      <th>lunch</th>\n",
       "      <th>test_preparation_course</th>\n",
       "      <th>reading_score</th>\n",
       "      <th>writing_score</th>\n",
       "    </tr>\n",
       "  </thead>\n",
       "  <tbody>\n",
       "    <tr>\n",
       "      <th>0</th>\n",
       "      <td>female</td>\n",
       "      <td>group B</td>\n",
       "      <td>bachelor's degree</td>\n",
       "      <td>standard</td>\n",
       "      <td>none</td>\n",
       "      <td>72</td>\n",
       "      <td>74</td>\n",
       "    </tr>\n",
       "    <tr>\n",
       "      <th>1</th>\n",
       "      <td>female</td>\n",
       "      <td>group C</td>\n",
       "      <td>some college</td>\n",
       "      <td>standard</td>\n",
       "      <td>completed</td>\n",
       "      <td>90</td>\n",
       "      <td>88</td>\n",
       "    </tr>\n",
       "    <tr>\n",
       "      <th>2</th>\n",
       "      <td>female</td>\n",
       "      <td>group B</td>\n",
       "      <td>master's degree</td>\n",
       "      <td>standard</td>\n",
       "      <td>none</td>\n",
       "      <td>95</td>\n",
       "      <td>93</td>\n",
       "    </tr>\n",
       "    <tr>\n",
       "      <th>3</th>\n",
       "      <td>male</td>\n",
       "      <td>group A</td>\n",
       "      <td>associate's degree</td>\n",
       "      <td>free/reduced</td>\n",
       "      <td>none</td>\n",
       "      <td>57</td>\n",
       "      <td>44</td>\n",
       "    </tr>\n",
       "    <tr>\n",
       "      <th>4</th>\n",
       "      <td>male</td>\n",
       "      <td>group C</td>\n",
       "      <td>some college</td>\n",
       "      <td>standard</td>\n",
       "      <td>none</td>\n",
       "      <td>78</td>\n",
       "      <td>75</td>\n",
       "    </tr>\n",
       "  </tbody>\n",
       "</table>\n",
       "</div>"
      ],
      "text/plain": [
       "   gender race_ethnicity parental_level_of_education         lunch  \\\n",
       "0  female        group B           bachelor's degree      standard   \n",
       "1  female        group C                some college      standard   \n",
       "2  female        group B             master's degree      standard   \n",
       "3    male        group A          associate's degree  free/reduced   \n",
       "4    male        group C                some college      standard   \n",
       "\n",
       "  test_preparation_course  reading_score  writing_score  \n",
       "0                    none             72             74  \n",
       "1               completed             90             88  \n",
       "2                    none             95             93  \n",
       "3                    none             57             44  \n",
       "4                    none             78             75  "
      ]
     },
     "execution_count": 7,
     "metadata": {},
     "output_type": "execute_result"
    }
   ],
   "source": [
    "X.head()"
   ]
  },
  {
   "cell_type": "code",
   "execution_count": 8,
   "id": "e4eb5011",
   "metadata": {},
   "outputs": [
    {
     "name": "stdout",
     "output_type": "stream",
     "text": [
      "Categories in 'gender' variable:     ['female' 'male']\n",
      "Categories in 'race_ethnicity' variable:     ['group B' 'group C' 'group A' 'group D' 'group E']\n",
      "Categories in 'parental_level_of_education' variable:     [\"bachelor's degree\" 'some college' \"master's degree\" \"associate's degree\"\n",
      " 'high school' 'some high school']\n",
      "Categories in 'test preparation course' variable:     ['none' 'completed']\n"
     ]
    }
   ],
   "source": [
    "print(\"Categories in 'gender' variable:    \", end=\" \")\n",
    "print(data['gender'].unique())\n",
    "\n",
    "print(\"Categories in 'race_ethnicity' variable:    \", end=\" \")\n",
    "print(data['race_ethnicity'].unique())\n",
    "\n",
    "print(\"Categories in 'parental_level_of_education' variable:    \", end=\" \")\n",
    "print(data['parental_level_of_education'].unique())\n",
    "\n",
    "print(\"Categories in 'test preparation course' variable:    \", end=\" \")\n",
    "print(data['test_preparation_course'].unique())"
   ]
  },
  {
   "cell_type": "code",
   "execution_count": 9,
   "id": "3a8b0d57",
   "metadata": {},
   "outputs": [],
   "source": [
    "y = data['math_score']"
   ]
  },
  {
   "cell_type": "code",
   "execution_count": 10,
   "id": "2c0ca852",
   "metadata": {},
   "outputs": [
    {
     "data": {
      "application/vnd.microsoft.datawrangler.viewer.v0+json": {
       "columns": [
        {
         "name": "index",
         "rawType": "int64",
         "type": "integer"
        },
        {
         "name": "math_score",
         "rawType": "int64",
         "type": "integer"
        }
       ],
       "ref": "2225f98f-c53c-4865-aa8a-1a43c36fda94",
       "rows": [
        [
         "0",
         "72"
        ],
        [
         "1",
         "69"
        ],
        [
         "2",
         "90"
        ],
        [
         "3",
         "47"
        ],
        [
         "4",
         "76"
        ],
        [
         "5",
         "71"
        ],
        [
         "6",
         "88"
        ],
        [
         "7",
         "40"
        ],
        [
         "8",
         "64"
        ],
        [
         "9",
         "38"
        ],
        [
         "10",
         "58"
        ],
        [
         "11",
         "40"
        ],
        [
         "12",
         "65"
        ],
        [
         "13",
         "78"
        ],
        [
         "14",
         "50"
        ],
        [
         "15",
         "69"
        ],
        [
         "16",
         "88"
        ],
        [
         "17",
         "18"
        ],
        [
         "18",
         "46"
        ],
        [
         "19",
         "54"
        ],
        [
         "20",
         "66"
        ],
        [
         "21",
         "65"
        ],
        [
         "22",
         "44"
        ],
        [
         "23",
         "69"
        ],
        [
         "24",
         "74"
        ],
        [
         "25",
         "73"
        ],
        [
         "26",
         "69"
        ],
        [
         "27",
         "67"
        ],
        [
         "28",
         "70"
        ],
        [
         "29",
         "62"
        ],
        [
         "30",
         "69"
        ],
        [
         "31",
         "63"
        ],
        [
         "32",
         "56"
        ],
        [
         "33",
         "40"
        ],
        [
         "34",
         "97"
        ],
        [
         "35",
         "81"
        ],
        [
         "36",
         "74"
        ],
        [
         "37",
         "50"
        ],
        [
         "38",
         "75"
        ],
        [
         "39",
         "57"
        ],
        [
         "40",
         "55"
        ],
        [
         "41",
         "58"
        ],
        [
         "42",
         "53"
        ],
        [
         "43",
         "59"
        ],
        [
         "44",
         "50"
        ],
        [
         "45",
         "65"
        ],
        [
         "46",
         "55"
        ],
        [
         "47",
         "66"
        ],
        [
         "48",
         "57"
        ],
        [
         "49",
         "82"
        ]
       ],
       "shape": {
        "columns": 1,
        "rows": 1000
       }
      },
      "text/plain": [
       "0      72\n",
       "1      69\n",
       "2      90\n",
       "3      47\n",
       "4      76\n",
       "       ..\n",
       "995    88\n",
       "996    62\n",
       "997    59\n",
       "998    68\n",
       "999    77\n",
       "Name: math_score, Length: 1000, dtype: int64"
      ]
     },
     "execution_count": 10,
     "metadata": {},
     "output_type": "execute_result"
    }
   ],
   "source": [
    "y"
   ]
  },
  {
   "cell_type": "code",
   "execution_count": 11,
   "id": "87bb0bca",
   "metadata": {},
   "outputs": [],
   "source": [
    "# Create columns Transfer with 3 types of transformers\n",
    "numeric_features = X.select_dtypes(include=['int64', 'float64']).columns\n",
    "categorical_features = X.select_dtypes(include=['object']).columns\n",
    "\n",
    "from sklearn.compose import ColumnTransformer\n",
    "from sklearn.preprocessing import StandardScaler, OneHotEncoder\n",
    "\n",
    "numeric_transformer = StandardScaler()\n",
    "oh_transfoermer = OneHotEncoder()\n",
    "\n",
    "preprocessor = ColumnTransformer(\n",
    "    [\n",
    "        (\"OneHotEncoder\", oh_transfoermer, categorical_features),\n",
    "        (\"StandardScaler\", numeric_transformer, numeric_features),\n",
    "    ]\n",
    ")\n"
   ]
  },
  {
   "cell_type": "code",
   "execution_count": 12,
   "id": "16c7b6bc",
   "metadata": {},
   "outputs": [],
   "source": [
    "X = preprocessor.fit_transform(X)"
   ]
  },
  {
   "cell_type": "code",
   "execution_count": 13,
   "id": "7dcf4145",
   "metadata": {},
   "outputs": [
    {
     "data": {
      "text/plain": [
       "(1000, 19)"
      ]
     },
     "execution_count": 13,
     "metadata": {},
     "output_type": "execute_result"
    }
   ],
   "source": [
    "X.shape"
   ]
  },
  {
   "cell_type": "code",
   "execution_count": 14,
   "id": "cf2df9f5",
   "metadata": {},
   "outputs": [
    {
     "data": {
      "text/plain": [
       "((800, 19), (200, 19))"
      ]
     },
     "execution_count": 14,
     "metadata": {},
     "output_type": "execute_result"
    }
   ],
   "source": [
    "# Separate dataset into training and test sets\n",
    "from sklearn.model_selection import train_test_split\n",
    "X_train, X_test, y_train, y_test = train_test_split(\n",
    "    X, y, test_size=0.2, random_state=42\n",
    ")\n",
    "\n",
    "X_train.shape, X_test.shape"
   ]
  },
  {
   "cell_type": "code",
   "execution_count": 15,
   "id": "31a55512",
   "metadata": {},
   "outputs": [],
   "source": [
    "def evaluate_model(true, predicted):\n",
    "    mae = mean_absolute_error(true, predicted)\n",
    "    mse = mean_squared_error(true, predicted)\n",
    "    rmse = np.sqrt(mse)\n",
    "    r2_square = r2_score(true, predicted)\n",
    "    return mae, mse, rmse, r2_square"
   ]
  },
  {
   "cell_type": "code",
   "execution_count": 21,
   "id": "97028565",
   "metadata": {},
   "outputs": [
    {
     "name": "stdout",
     "output_type": "stream",
     "text": [
      "Linear Regression\n",
      "Model Performance for training set\n",
      "- Root Mean Error: 5.3231\n",
      "- Mean Square Error: 28.3349\n",
      "- R2 Score: 0.8743\n",
      "------------------------------------------------------\n",
      "Model Performance for testing set\n",
      "- Root Mean Error: 5.3940\n",
      "- Mean Square Error: 29.0952\n",
      "- R2 Score: 0.8804\n",
      "=======================================================\n",
      "===================================\n",
      "\n",
      "\n",
      "Ridge\n",
      "Model Performance for training set\n",
      "- Root Mean Error: 5.3233\n",
      "- Mean Square Error: 28.3378\n",
      "- R2 Score: 0.8743\n",
      "------------------------------------------------------\n",
      "Model Performance for testing set\n",
      "- Root Mean Error: 5.3904\n",
      "- Mean Square Error: 29.0563\n",
      "- R2 Score: 0.8806\n",
      "=======================================================\n",
      "===================================\n",
      "\n",
      "\n",
      "Lasso\n",
      "Model Performance for training set\n",
      "- Root Mean Error: 6.5938\n",
      "- Mean Square Error: 43.4784\n",
      "- R2 Score: 0.8071\n",
      "------------------------------------------------------\n",
      "Model Performance for testing set\n",
      "- Root Mean Error: 6.5197\n",
      "- Mean Square Error: 42.5064\n",
      "- R2 Score: 0.8253\n",
      "=======================================================\n",
      "===================================\n",
      "\n",
      "\n",
      "KNeighbors Regressor\n",
      "Model Performance for training set\n",
      "- Root Mean Error: 5.7084\n",
      "- Mean Square Error: 32.5856\n",
      "- R2 Score: 0.8555\n",
      "------------------------------------------------------\n",
      "Model Performance for testing set\n",
      "- Root Mean Error: 7.2583\n",
      "- Mean Square Error: 52.6834\n",
      "- R2 Score: 0.7835\n",
      "=======================================================\n",
      "===================================\n",
      "\n",
      "\n",
      "Decision Tree Regressor\n",
      "Model Performance for training set\n",
      "- Root Mean Error: 0.2795\n",
      "- Mean Square Error: 0.0781\n",
      "- R2 Score: 0.9997\n",
      "------------------------------------------------------\n",
      "Model Performance for testing set\n",
      "- Root Mean Error: 8.2335\n",
      "- Mean Square Error: 67.7900\n",
      "- R2 Score: 0.7214\n",
      "=======================================================\n",
      "===================================\n",
      "\n",
      "\n",
      "KNeighbors Regressor\n",
      "Model Performance for training set\n",
      "- Root Mean Error: 5.7084\n",
      "- Mean Square Error: 32.5856\n",
      "- R2 Score: 0.8555\n",
      "------------------------------------------------------\n",
      "Model Performance for testing set\n",
      "- Root Mean Error: 7.2583\n",
      "- Mean Square Error: 52.6834\n",
      "- R2 Score: 0.7835\n",
      "=======================================================\n",
      "===================================\n",
      "\n",
      "\n",
      "Decision Tree Regressor\n",
      "Model Performance for training set\n",
      "- Root Mean Error: 0.2795\n",
      "- Mean Square Error: 0.0781\n",
      "- R2 Score: 0.9997\n",
      "------------------------------------------------------\n",
      "Model Performance for testing set\n",
      "- Root Mean Error: 8.2335\n",
      "- Mean Square Error: 67.7900\n",
      "- R2 Score: 0.7214\n",
      "=======================================================\n",
      "===================================\n",
      "\n",
      "\n",
      "Random Forest Regressor\n",
      "Model Performance for training set\n",
      "- Root Mean Error: 2.3142\n",
      "- Mean Square Error: 5.3554\n",
      "- R2 Score: 0.9762\n",
      "------------------------------------------------------\n",
      "Model Performance for testing set\n",
      "- Root Mean Error: 6.0139\n",
      "- Mean Square Error: 36.1672\n",
      "- R2 Score: 0.8514\n",
      "=======================================================\n",
      "===================================\n",
      "\n",
      "\n",
      "Random Forest Regressor\n",
      "Model Performance for training set\n",
      "- Root Mean Error: 2.3142\n",
      "- Mean Square Error: 5.3554\n",
      "- R2 Score: 0.9762\n",
      "------------------------------------------------------\n",
      "Model Performance for testing set\n",
      "- Root Mean Error: 6.0139\n",
      "- Mean Square Error: 36.1672\n",
      "- R2 Score: 0.8514\n",
      "=======================================================\n",
      "===================================\n",
      "\n",
      "\n",
      "AdaBoost Regressor\n",
      "Model Performance for training set\n",
      "- Root Mean Error: 5.8004\n",
      "- Mean Square Error: 33.6450\n",
      "- R2 Score: 0.8508\n",
      "------------------------------------------------------\n",
      "Model Performance for testing set\n",
      "- Root Mean Error: 6.1661\n",
      "- Mean Square Error: 38.0208\n",
      "- R2 Score: 0.8438\n",
      "=======================================================\n",
      "===================================\n",
      "\n",
      "\n",
      "AdaBoost Regressor\n",
      "Model Performance for training set\n",
      "- Root Mean Error: 5.8004\n",
      "- Mean Square Error: 33.6450\n",
      "- R2 Score: 0.8508\n",
      "------------------------------------------------------\n",
      "Model Performance for testing set\n",
      "- Root Mean Error: 6.1661\n",
      "- Mean Square Error: 38.0208\n",
      "- R2 Score: 0.8438\n",
      "=======================================================\n",
      "===================================\n",
      "\n",
      "\n",
      "XGB Regressor\n",
      "Model Performance for training set\n",
      "- Root Mean Error: 1.0073\n",
      "- Mean Square Error: 1.0146\n",
      "- R2 Score: 0.9955\n",
      "------------------------------------------------------\n",
      "Model Performance for testing set\n",
      "- Root Mean Error: 6.4733\n",
      "- Mean Square Error: 41.9037\n",
      "- R2 Score: 0.8278\n",
      "=======================================================\n",
      "===================================\n",
      "\n",
      "\n",
      "XGB Regressor\n",
      "Model Performance for training set\n",
      "- Root Mean Error: 1.0073\n",
      "- Mean Square Error: 1.0146\n",
      "- R2 Score: 0.9955\n",
      "------------------------------------------------------\n",
      "Model Performance for testing set\n",
      "- Root Mean Error: 6.4733\n",
      "- Mean Square Error: 41.9037\n",
      "- R2 Score: 0.8278\n",
      "=======================================================\n",
      "===================================\n",
      "\n",
      "\n",
      "CatBoost Regressor\n",
      "Model Performance for training set\n",
      "- Root Mean Error: 3.0427\n",
      "- Mean Square Error: 9.2578\n",
      "- R2 Score: 0.9589\n",
      "------------------------------------------------------\n",
      "Model Performance for testing set\n",
      "- Root Mean Error: 6.0086\n",
      "- Mean Square Error: 36.1037\n",
      "- R2 Score: 0.8516\n",
      "=======================================================\n",
      "===================================\n",
      "\n",
      "\n",
      "CatBoost Regressor\n",
      "Model Performance for training set\n",
      "- Root Mean Error: 3.0427\n",
      "- Mean Square Error: 9.2578\n",
      "- R2 Score: 0.9589\n",
      "------------------------------------------------------\n",
      "Model Performance for testing set\n",
      "- Root Mean Error: 6.0086\n",
      "- Mean Square Error: 36.1037\n",
      "- R2 Score: 0.8516\n",
      "=======================================================\n",
      "===================================\n",
      "\n",
      "\n"
     ]
    }
   ],
   "source": [
    "models = {\n",
    "    \"Linear Regression\": LinearRegression(),\n",
    "    \"Ridge\": Ridge(),\n",
    "    \"Lasso\": Lasso(),\n",
    "    \"KNeighbors Regressor\": KNeighborsRegressor(),\n",
    "    \"Decision Tree Regressor\": DecisionTreeRegressor(),\n",
    "    \"Random Forest Regressor\": RandomForestRegressor(),\n",
    "    \"AdaBoost Regressor\": AdaBoostRegressor(),\n",
    "    \"XGB Regressor\": XGBRegressor(),\n",
    "    \"CatBoost Regressor\": CatBoostRegressor(verbose=False),\n",
    "}\n",
    "\n",
    "models_list = []\n",
    "r2_list = []\n",
    "\n",
    "# Iterate over name, model pairs to avoid overwriting the dict\n",
    "for name, model in models.items():\n",
    "    # Train the model\n",
    "    model.fit(X_train, y_train)\n",
    "\n",
    "    # Make predictions\n",
    "    y_train_pred = model.predict(X_train)\n",
    "    y_test_pred = model.predict(X_test)\n",
    "\n",
    "    # Evaluate the model\n",
    "    model_train_mae, model_train_mse, model_train_rmse, model_train_r2 = evaluate_model(y_train, y_train_pred)\n",
    "    model_test_mae, model_test_mse, model_test_rmse, model_test_r2 = evaluate_model(y_test, y_test_pred)\n",
    "\n",
    "    print(name)\n",
    "    models_list.append(name)\n",
    "\n",
    "    print(\"Model Performance for training set\")\n",
    "    print(f\"- Root Mean Error: {model_train_rmse:.4f}\")\n",
    "    print(f\"- Mean Square Error: {model_train_mse:.4f}\")\n",
    "    print(f\"- R2 Score: {model_train_r2:.4f}\")\n",
    "\n",
    "    print(\"------------------------------------------------------\")\n",
    "\n",
    "    print(\"Model Performance for testing set\")\n",
    "    print(f\"- Root Mean Error: {model_test_rmse:.4f}\")\n",
    "    print(f\"- Mean Square Error: {model_test_mse:.4f}\")\n",
    "    print(f\"- R2 Score: {model_test_r2:.4f}\")\n",
    "    r2_list.append(model_test_r2)\n",
    "\n",
    "    print(\"=======================================================\")\n",
    "    print('='*35)\n",
    "    print('\\n')"
   ]
  },
  {
   "cell_type": "code",
   "execution_count": 22,
   "id": "69fade3b",
   "metadata": {},
   "outputs": [
    {
     "data": {
      "application/vnd.microsoft.datawrangler.viewer.v0+json": {
       "columns": [
        {
         "name": "index",
         "rawType": "int64",
         "type": "integer"
        },
        {
         "name": "Model",
         "rawType": "object",
         "type": "string"
        },
        {
         "name": "R2 Score",
         "rawType": "float64",
         "type": "float"
        }
       ],
       "ref": "0d4d88bf-6610-428d-a34b-780a3885579f",
       "rows": [
        [
         "1",
         "Ridge",
         "0.8805931485028738"
        ],
        [
         "0",
         "Linear Regression",
         "0.8804332983749565"
        ],
        [
         "8",
         "CatBoost Regressor",
         "0.8516318920747058"
        ],
        [
         "5",
         "Random Forest Regressor",
         "0.8513709418738815"
        ],
        [
         "6",
         "AdaBoost Regressor",
         "0.8437532947847066"
        ],
        [
         "7",
         "XGB Regressor",
         "0.8277965784072876"
        ],
        [
         "2",
         "Lasso",
         "0.8253197323627852"
        ],
        [
         "3",
         "KNeighbors Regressor",
         "0.7834973847119895"
        ],
        [
         "4",
         "Decision Tree Regressor",
         "0.7214167595414451"
        ]
       ],
       "shape": {
        "columns": 2,
        "rows": 9
       }
      },
      "text/html": [
       "<div>\n",
       "<style scoped>\n",
       "    .dataframe tbody tr th:only-of-type {\n",
       "        vertical-align: middle;\n",
       "    }\n",
       "\n",
       "    .dataframe tbody tr th {\n",
       "        vertical-align: top;\n",
       "    }\n",
       "\n",
       "    .dataframe thead th {\n",
       "        text-align: right;\n",
       "    }\n",
       "</style>\n",
       "<table border=\"1\" class=\"dataframe\">\n",
       "  <thead>\n",
       "    <tr style=\"text-align: right;\">\n",
       "      <th></th>\n",
       "      <th>Model</th>\n",
       "      <th>R2 Score</th>\n",
       "    </tr>\n",
       "  </thead>\n",
       "  <tbody>\n",
       "    <tr>\n",
       "      <th>1</th>\n",
       "      <td>Ridge</td>\n",
       "      <td>0.880593</td>\n",
       "    </tr>\n",
       "    <tr>\n",
       "      <th>0</th>\n",
       "      <td>Linear Regression</td>\n",
       "      <td>0.880433</td>\n",
       "    </tr>\n",
       "    <tr>\n",
       "      <th>8</th>\n",
       "      <td>CatBoost Regressor</td>\n",
       "      <td>0.851632</td>\n",
       "    </tr>\n",
       "    <tr>\n",
       "      <th>5</th>\n",
       "      <td>Random Forest Regressor</td>\n",
       "      <td>0.851371</td>\n",
       "    </tr>\n",
       "    <tr>\n",
       "      <th>6</th>\n",
       "      <td>AdaBoost Regressor</td>\n",
       "      <td>0.843753</td>\n",
       "    </tr>\n",
       "    <tr>\n",
       "      <th>7</th>\n",
       "      <td>XGB Regressor</td>\n",
       "      <td>0.827797</td>\n",
       "    </tr>\n",
       "    <tr>\n",
       "      <th>2</th>\n",
       "      <td>Lasso</td>\n",
       "      <td>0.825320</td>\n",
       "    </tr>\n",
       "    <tr>\n",
       "      <th>3</th>\n",
       "      <td>KNeighbors Regressor</td>\n",
       "      <td>0.783497</td>\n",
       "    </tr>\n",
       "    <tr>\n",
       "      <th>4</th>\n",
       "      <td>Decision Tree Regressor</td>\n",
       "      <td>0.721417</td>\n",
       "    </tr>\n",
       "  </tbody>\n",
       "</table>\n",
       "</div>"
      ],
      "text/plain": [
       "                     Model  R2 Score\n",
       "1                    Ridge  0.880593\n",
       "0        Linear Regression  0.880433\n",
       "8       CatBoost Regressor  0.851632\n",
       "5  Random Forest Regressor  0.851371\n",
       "6       AdaBoost Regressor  0.843753\n",
       "7            XGB Regressor  0.827797\n",
       "2                    Lasso  0.825320\n",
       "3     KNeighbors Regressor  0.783497\n",
       "4  Decision Tree Regressor  0.721417"
      ]
     },
     "execution_count": 22,
     "metadata": {},
     "output_type": "execute_result"
    }
   ],
   "source": [
    "pd.DataFrame(list(zip(models_list, r2_list)), columns=['Model', 'R2 Score']).sort_values(by='R2 Score', ascending=False)"
   ]
  },
  {
   "cell_type": "code",
   "execution_count": 23,
   "id": "802bac00",
   "metadata": {},
   "outputs": [
    {
     "name": "stdout",
     "output_type": "stream",
     "text": [
      "Accuracy of the model is 88.04\n"
     ]
    }
   ],
   "source": [
    "lin_model = LinearRegression(fit_intercept=True)\n",
    "lin_model = lin_model.fit(X_train, y_train)\n",
    "y_pred = lin_model.predict(X_test)\n",
    "score = r2_score(y_test, y_pred)*100\n",
    "\n",
    "print(\"Accuracy of the model is %.2f\" %score)"
   ]
  },
  {
   "cell_type": "code",
   "execution_count": 24,
   "id": "54792b6f",
   "metadata": {},
   "outputs": [
    {
     "data": {
      "image/png": "[encoded data removed]",
      "text/plain": [
       "<Figure size 640x480 with 1 Axes>"
      ]
     },
     "metadata": {},
     "output_type": "display_data"
    }
   ],
   "source": [
    "plt.scatter(y_test, y_pred)\n",
    "plt.xlabel(\"Actual Values\")\n",
    "plt.ylabel(\"Predicted Values\")\n",
    "plt.title(\"Actual vs Predicted Values\")\n",
    "plt.show()"
   ]
  },
  {
   "cell_type": "code",
   "execution_count": 25,
   "id": "8adb4852",
   "metadata": {},
   "outputs": [
    {
     "data": {
      "text/plain": [
       "<Axes: xlabel='math_score'>"
      ]
     },
     "execution_count": 25,
     "metadata": {},
     "output_type": "execute_result"
    },
    {
     "data": {
      "image/png": "[encoded data removed]",
      "text/plain": [
       "<Figure size 640x480 with 1 Axes>"
      ]
     },
     "metadata": {},
     "output_type": "display_data"
    }
   ],
   "source": [
    "sns.regplot(x=y_test, y=y_pred, ci=None, color ='r')"
   ]
  },
  {
   "cell_type": "code",
   "execution_count": 26,
   "id": "1b5dae34",
   "metadata": {},
   "outputs": [
    {
     "data": {
      "application/vnd.microsoft.datawrangler.viewer.v0+json": {
       "columns": [
        {
         "name": "index",
         "rawType": "int64",
         "type": "integer"
        },
        {
         "name": "Actaul Values",
         "rawType": "int64",
         "type": "integer"
        },
        {
         "name": "Predicted Values",
         "rawType": "float64",
         "type": "float"
        },
        {
         "name": "Difference",
         "rawType": "float64",
         "type": "float"
        }
       ],
       "ref": "5956c3fd-0a41-4553-81e8-d1f4b4402909",
       "rows": [
        [
         "521",
         "91",
         "76.38796970470763",
         "14.61203029529237"
        ],
        [
         "737",
         "53",
         "58.88597003651173",
         "-5.885970036511729"
        ],
        [
         "740",
         "80",
         "76.99026482632551",
         "3.0097351736744855"
        ],
        [
         "660",
         "74",
         "76.85180448213576",
         "-2.851804482135762"
        ],
        [
         "411",
         "84",
         "87.62737816286037",
         "-3.627378162860367"
        ],
        [
         "678",
         "81",
         "79.01402379783629",
         "1.9859762021637124"
        ],
        [
         "626",
         "69",
         "64.65460864733765",
         "4.345391352662347"
        ],
        [
         "513",
         "54",
         "53.00791885137791",
         "0.9920811486220913"
        ],
        [
         "859",
         "87",
         "74.18471015353906",
         "12.815289846460942"
        ],
        [
         "136",
         "51",
         "49.21353814930141",
         "1.7864618506985934"
        ],
        [
         "811",
         "45",
         "52.94765047406514",
         "-7.947650474065142"
        ],
        [
         "76",
         "30",
         "36.66906418218654",
         "-6.669064182186538"
        ],
        [
         "636",
         "67",
         "67.91392549912626",
         "-0.9139254991262646"
        ],
        [
         "973",
         "49",
         "52.27725558318059",
         "-3.2772555831805903"
        ],
        [
         "938",
         "85",
         "86.71848338486912",
         "-1.718483384869117"
        ],
        [
         "899",
         "65",
         "70.53070205418696",
         "-5.5307020541869605"
        ],
        [
         "280",
         "53",
         "51.955566390071496",
         "1.0444336099285039"
        ],
        [
         "883",
         "55",
         "46.83143860102437",
         "8.168561398975633"
        ],
        [
         "761",
         "48",
         "48.823751012715746",
         "-0.8237510127157464"
        ],
        [
         "319",
         "56",
         "52.726695305405",
         "3.273304694594998"
        ],
        [
         "549",
         "79",
         "73.88582984105216",
         "5.114170158947843"
        ],
        [
         "174",
         "43",
         "38.88612362409078",
         "4.113876375909221"
        ],
        [
         "371",
         "45",
         "57.380744213222236",
         "-12.380744213222236"
        ],
        [
         "527",
         "36",
         "36.328397227451354",
         "-0.32839722745135447"
        ],
        [
         "210",
         "80",
         "78.14908977905243",
         "1.8509102209475685"
        ],
        [
         "235",
         "80",
         "81.79995075269561",
         "-1.799950752695608"
        ],
        [
         "101",
         "68",
         "75.3849408953174",
         "-7.384940895317399"
        ],
        [
         "986",
         "40",
         "46.118478696026145",
         "-6.118478696026145"
        ],
        [
         "902",
         "34",
         "31.035963341278766",
         "2.964036658721234"
        ],
        [
         "947",
         "49",
         "49.90094971612327",
         "-0.9009497161232716"
        ],
        [
         "346",
         "62",
         "65.98409138213802",
         "-3.9840913821380184"
        ],
        [
         "139",
         "71",
         "70.4116651962036",
         "0.5883348037963998"
        ],
        [
         "621",
         "62",
         "60.50615640483429",
         "1.493843595165707"
        ],
        [
         "499",
         "76",
         "83.73986217599003",
         "-7.739862175990027"
        ],
        [
         "370",
         "84",
         "84.43184961214219",
         "-0.4318496121421873"
        ],
        [
         "198",
         "45",
         "46.07265627313707",
         "-1.0726562731370706"
        ],
        [
         "687",
         "77",
         "76.10135181039274",
         "0.8986481896072576"
        ],
        [
         "584",
         "69",
         "70.2059681669826",
         "-1.2059681669826006"
        ],
        [
         "901",
         "73",
         "65.85782102838469",
         "7.142178971615309"
        ],
        [
         "59",
         "0",
         "3.761861056094105",
         "-3.761861056094105"
        ],
        [
         "328",
         "82",
         "78.49792747741526",
         "3.50207252258474"
        ],
        [
         "96",
         "65",
         "67.25291551648374",
         "-2.252915516483739"
        ],
        [
         "312",
         "67",
         "67.97175998474843",
         "-0.9717599847484308"
        ],
        [
         "974",
         "54",
         "60.27340919680884",
         "-6.273409196808842"
        ],
        [
         "299",
         "90",
         "79.67385073558067",
         "10.326149264419328"
        ],
        [
         "277",
         "59",
         "67.60005538843502",
         "-8.600055388435024"
        ],
        [
         "924",
         "74",
         "72.24589184590616",
         "1.7541081540938421"
        ],
        [
         "601",
         "29",
         "24.76000748474344",
         "4.23999251525656"
        ],
        [
         "439",
         "89",
         "85.95581152821951",
         "3.044188471780487"
        ],
        [
         "837",
         "75",
         "70.08842684467648",
         "4.911573155323524"
        ]
       ],
       "shape": {
        "columns": 3,
        "rows": 200
       }
      },
      "text/html": [
       "<div>\n",
       "<style scoped>\n",
       "    .dataframe tbody tr th:only-of-type {\n",
       "        vertical-align: middle;\n",
       "    }\n",
       "\n",
       "    .dataframe tbody tr th {\n",
       "        vertical-align: top;\n",
       "    }\n",
       "\n",
       "    .dataframe thead th {\n",
       "        text-align: right;\n",
       "    }\n",
       "</style>\n",
       "<table border=\"1\" class=\"dataframe\">\n",
       "  <thead>\n",
       "    <tr style=\"text-align: right;\">\n",
       "      <th></th>\n",
       "      <th>Actaul Values</th>\n",
       "      <th>Predicted Values</th>\n",
       "      <th>Difference</th>\n",
       "    </tr>\n",
       "  </thead>\n",
       "  <tbody>\n",
       "    <tr>\n",
       "      <th>521</th>\n",
       "      <td>91</td>\n",
       "      <td>76.387970</td>\n",
       "      <td>14.612030</td>\n",
       "    </tr>\n",
       "    <tr>\n",
       "      <th>737</th>\n",
       "      <td>53</td>\n",
       "      <td>58.885970</td>\n",
       "      <td>-5.885970</td>\n",
       "    </tr>\n",
       "    <tr>\n",
       "      <th>740</th>\n",
       "      <td>80</td>\n",
       "      <td>76.990265</td>\n",
       "      <td>3.009735</td>\n",
       "    </tr>\n",
       "    <tr>\n",
       "      <th>660</th>\n",
       "      <td>74</td>\n",
       "      <td>76.851804</td>\n",
       "      <td>-2.851804</td>\n",
       "    </tr>\n",
       "    <tr>\n",
       "      <th>411</th>\n",
       "      <td>84</td>\n",
       "      <td>87.627378</td>\n",
       "      <td>-3.627378</td>\n",
       "    </tr>\n",
       "    <tr>\n",
       "      <th>...</th>\n",
       "      <td>...</td>\n",
       "      <td>...</td>\n",
       "      <td>...</td>\n",
       "    </tr>\n",
       "    <tr>\n",
       "      <th>408</th>\n",
       "      <td>52</td>\n",
       "      <td>43.409149</td>\n",
       "      <td>8.590851</td>\n",
       "    </tr>\n",
       "    <tr>\n",
       "      <th>332</th>\n",
       "      <td>62</td>\n",
       "      <td>62.152214</td>\n",
       "      <td>-0.152214</td>\n",
       "    </tr>\n",
       "    <tr>\n",
       "      <th>208</th>\n",
       "      <td>74</td>\n",
       "      <td>67.888395</td>\n",
       "      <td>6.111605</td>\n",
       "    </tr>\n",
       "    <tr>\n",
       "      <th>613</th>\n",
       "      <td>65</td>\n",
       "      <td>67.022287</td>\n",
       "      <td>-2.022287</td>\n",
       "    </tr>\n",
       "    <tr>\n",
       "      <th>78</th>\n",
       "      <td>61</td>\n",
       "      <td>62.345132</td>\n",
       "      <td>-1.345132</td>\n",
       "    </tr>\n",
       "  </tbody>\n",
       "</table>\n",
       "<p>200 rows × 3 columns</p>\n",
       "</div>"
      ],
      "text/plain": [
       "     Actaul Values  Predicted Values  Difference\n",
       "521             91         76.387970   14.612030\n",
       "737             53         58.885970   -5.885970\n",
       "740             80         76.990265    3.009735\n",
       "660             74         76.851804   -2.851804\n",
       "411             84         87.627378   -3.627378\n",
       "..             ...               ...         ...\n",
       "408             52         43.409149    8.590851\n",
       "332             62         62.152214   -0.152214\n",
       "208             74         67.888395    6.111605\n",
       "613             65         67.022287   -2.022287\n",
       "78              61         62.345132   -1.345132\n",
       "\n",
       "[200 rows x 3 columns]"
      ]
     },
     "execution_count": 26,
     "metadata": {},
     "output_type": "execute_result"
    }
   ],
   "source": [
    "pred_data = pd.DataFrame({'Actaul Values': y_test, 'Predicted Values': y_pred, 'Difference': y_test - y_pred})\n",
    "pred_data"
   ]
  },
  {
   "cell_type": "code",
   "execution_count": null,
   "id": "87e08698",
   "metadata": {},
   "outputs": [],
   "source": []
  }
 ],
 "metadata": {
  "kernelspec": {
   "display_name": "okay.venv",
   "language": "python",
   "name": "python3"
  },
  "language_info": {
   "codemirror_mode": {
    "name": "ipython",
    "version": 3
   },
   "file_extension": ".py",
   "mimetype": "text/x-python",
   "name": "python",
   "nbconvert_exporter": "python",
   "pygments_lexer": "ipython3",
   "version": "3.13.7"
  }
 },
 "nbformat": 4,
 "nbformat_minor": 5
}
